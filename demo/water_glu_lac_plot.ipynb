{
 "cells": [
  {
   "cell_type": "code",
   "execution_count": null,
   "metadata": {
    "vscode": {
     "languageId": "plaintext"
    }
   },
   "outputs": [],
   "source": [
    "from mrspy.util.fast.datapipeline import datapipeline \n",
    "from mrspy.plot import plot\n",
    "\n",
    "CSF_file_path = \"/home/data1/musong/data/IXI/T1/fast/IXI216-HH-1635-T1/IXI216-HH-1635-T1_pve_0.nii.gz\"\n",
    "GM_file_path = \"/home/data1/musong/data/IXI/T1/fast/IXI216-HH-1635-T1/IXI216-HH-1635-T1_pve_1.nii.gz\"\n",
    "WM_file_path = \"/home/data1/musong/data/IXI/T1/fast/IXI216-HH-1635-T1/IXI216-HH-1635-T1_pve_2.nii.gz\"\n",
    "\n",
    "weight_dict={\n",
    "    \"CSF\": [0.1, 0.3, 0.6],\n",
    "    \"GM\": [0.3, 0.6, 0.2],\n",
    "    \"WM\": [0.6, 0.1, 0],\n",
    "}\n",
    "\n",
    "size=(256, 256)\n",
    "pipeline = datapipeline(CSF_file_path=CSF_file_path, \n",
    "                        GM_file_path=GM_file_path, \n",
    "                        WM_file_path=WM_file_path, \n",
    "                        weight_dict=weight_dict, \n",
    "                        size=size, \n",
    "                        pad=0.3, \n",
    "                        pad_axis=\"x\")\n",
    "\n",
    "pipeline.process()\n",
    "water = pipeline.water\n",
    "print(water.shape)\n",
    "\n",
    "pipeline.plot(idx=157, cmap=\"jet\")"
   ]
  }
 ],
 "metadata": {
  "language_info": {
   "name": "python"
  }
 },
 "nbformat": 4,
 "nbformat_minor": 2
}
